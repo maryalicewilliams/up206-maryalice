{
 "cells": [
  {
   "cell_type": "markdown",
   "id": "14a0da7a-a246-4347-aa66-e8895182b1a5",
   "metadata": {},
   "source": [
    "# Oakland Street Service Requests 2009\n",
    "### I'm going to try to map all the street deterioration service requests in Oakland in 2009.\n",
    "\n",
    "I will also try to see if I can graph the average turnaround time for service requests to be closed from the time they were opened. It would be cool to see where the longest turnaround times are vs. the shortest. \n",
    "\n",
    "I will import a bunch of libraries now, not sure if I'll end up using all of them but we shall see."
   ]
  },
  {
   "cell_type": "code",
   "execution_count": 1,
   "id": "1cd4ca58-cd5b-4b9e-82ba-3a82f0cc526f",
   "metadata": {},
   "outputs": [],
   "source": [
    "import geopandas as gpd\n",
    "import folium\n",
    "import pandas as pd\n",
    "import contextily as ctx"
   ]
  },
  {
   "cell_type": "markdown",
   "id": "182851ab-5d4b-4d56-b733-3a0d2f26a9b4",
   "metadata": {},
   "source": [
    "I already manipulated my data a bunch in Excel because it was really messy before. I put the locations in separate columns where they were previously in one, and I also added a column that calculated the time it took for a request to be resolved. There were a few requests that were either cancelled or left open/unresolved and have a label like \"unfunded.\" I'm not sure whether I'm going to keep that, but for now, I put their turnaround time as 40,000 days because I want to be able to sort them out if I need. I will just have to make sure to get rid of those rows before trying to find the average otherwise I'll get totally skewed data."
   ]
  },
  {
   "cell_type": "code",
   "execution_count": 2,
   "id": "4c9974ae-a939-4cc1-80bc-df8257d2807d",
   "metadata": {},
   "outputs": [],
   "source": [
    "oakland09 = gpd.read_file('oakland09data.csv')"
   ]
  },
  {
   "cell_type": "markdown",
   "id": "3afaa86d-9bca-4950-8d2c-d607618dc55a",
   "metadata": {},
   "source": [
    "Now that I've imported the libraries and uploaded my data, I'd like to see what the top of it looks like."
   ]
  },
  {
   "cell_type": "code",
   "execution_count": 3,
   "id": "1ee30f0a-cd2d-4a65-9e6b-e44af21c3a57",
   "metadata": {},
   "outputs": [
    {
     "data": {
      "text/html": [
       "<div>\n",
       "<style scoped>\n",
       "    .dataframe tbody tr th:only-of-type {\n",
       "        vertical-align: middle;\n",
       "    }\n",
       "\n",
       "    .dataframe tbody tr th {\n",
       "        vertical-align: top;\n",
       "    }\n",
       "\n",
       "    .dataframe thead th {\n",
       "        text-align: right;\n",
       "    }\n",
       "</style>\n",
       "<table border=\"1\" class=\"dataframe\">\n",
       "  <thead>\n",
       "    <tr style=\"text-align: right;\">\n",
       "      <th></th>\n",
       "      <th>REQUESTID</th>\n",
       "      <th>DATETIMEINIT</th>\n",
       "      <th>SOURCE</th>\n",
       "      <th>DESCRIPTION</th>\n",
       "      <th>REQCATEGORY</th>\n",
       "      <th>LAT</th>\n",
       "      <th>LONG</th>\n",
       "      <th>STATUS</th>\n",
       "      <th>DATETIMECLOSED</th>\n",
       "      <th>COUNCILDISTRICT</th>\n",
       "      <th>PROBADDRESS</th>\n",
       "      <th>City</th>\n",
       "      <th>State</th>\n",
       "      <th>TIMETOCLOSE</th>\n",
       "      <th>geometry</th>\n",
       "    </tr>\n",
       "  </thead>\n",
       "  <tbody>\n",
       "    <tr>\n",
       "      <th>0</th>\n",
       "      <td>323,439</td>\n",
       "      <td>12/8/2009 11:05</td>\n",
       "      <td>Phone or Email</td>\n",
       "      <td>Streets - Street Deterioration</td>\n",
       "      <td>STREETSW</td>\n",
       "      <td>37.78827341554735,</td>\n",
       "      <td>-122.1901048</td>\n",
       "      <td>UNFUNDED</td>\n",
       "      <td></td>\n",
       "      <td>CCD4</td>\n",
       "      <td>4448 PAMPAS AV</td>\n",
       "      <td>Oakland</td>\n",
       "      <td>CA</td>\n",
       "      <td>40000</td>\n",
       "      <td>None</td>\n",
       "    </tr>\n",
       "    <tr>\n",
       "      <th>1</th>\n",
       "      <td>323,234</td>\n",
       "      <td>12/4/2009 16:20</td>\n",
       "      <td>Phone or Email</td>\n",
       "      <td>Streets - Potholes/Depression</td>\n",
       "      <td>STREETSW</td>\n",
       "      <td>37.827783911702205,</td>\n",
       "      <td>-122.1948242</td>\n",
       "      <td>CANCEL</td>\n",
       "      <td></td>\n",
       "      <td>CCD4</td>\n",
       "      <td>8 RYDAL CT</td>\n",
       "      <td>Oakland</td>\n",
       "      <td>CA</td>\n",
       "      <td>40000</td>\n",
       "      <td>None</td>\n",
       "    </tr>\n",
       "    <tr>\n",
       "      <th>2</th>\n",
       "      <td>323,034</td>\n",
       "      <td>12/2/2009 12:51</td>\n",
       "      <td>Phone or Email</td>\n",
       "      <td>Streets/Sidewalks - Curb &amp; Gutter Repair</td>\n",
       "      <td>STREETSW</td>\n",
       "      <td>37.806380392636356,</td>\n",
       "      <td>-122.2072523</td>\n",
       "      <td>UNFUNDED</td>\n",
       "      <td></td>\n",
       "      <td>CCD4</td>\n",
       "      <td>4100 LINCOLN AVE</td>\n",
       "      <td>Oakland</td>\n",
       "      <td>CA</td>\n",
       "      <td>40000</td>\n",
       "      <td>None</td>\n",
       "    </tr>\n",
       "    <tr>\n",
       "      <th>3</th>\n",
       "      <td>323,003</td>\n",
       "      <td>12/2/2009 10:23</td>\n",
       "      <td>Phone or Email</td>\n",
       "      <td>Streets - Street Deterioration</td>\n",
       "      <td>STREETSW</td>\n",
       "      <td>37.83726266269269,</td>\n",
       "      <td>-122.2257336</td>\n",
       "      <td>CLOSED</td>\n",
       "      <td></td>\n",
       "      <td>CCD1</td>\n",
       "      <td>HARBORD DR &amp; FLORENCE AV</td>\n",
       "      <td>Oakland</td>\n",
       "      <td>CA</td>\n",
       "      <td>40000</td>\n",
       "      <td>None</td>\n",
       "    </tr>\n",
       "    <tr>\n",
       "      <th>4</th>\n",
       "      <td>321,683</td>\n",
       "      <td>11/13/2009 12:58</td>\n",
       "      <td>Phone or Email</td>\n",
       "      <td>Streets - Street Deterioration</td>\n",
       "      <td>STREETSW</td>\n",
       "      <td>37.81606614536522,</td>\n",
       "      <td>-122.26249</td>\n",
       "      <td>UNFUNDED</td>\n",
       "      <td></td>\n",
       "      <td>CCD3</td>\n",
       "      <td>275 28TH ST</td>\n",
       "      <td>Oakland</td>\n",
       "      <td>CA</td>\n",
       "      <td>40000</td>\n",
       "      <td>None</td>\n",
       "    </tr>\n",
       "  </tbody>\n",
       "</table>\n",
       "</div>"
      ],
      "text/plain": [
       "  REQUESTID      DATETIMEINIT          SOURCE  \\\n",
       "0   323,439   12/8/2009 11:05  Phone or Email   \n",
       "1   323,234   12/4/2009 16:20  Phone or Email   \n",
       "2   323,034   12/2/2009 12:51  Phone or Email   \n",
       "3   323,003   12/2/2009 10:23  Phone or Email   \n",
       "4   321,683  11/13/2009 12:58  Phone or Email   \n",
       "\n",
       "                                DESCRIPTION REQCATEGORY                  LAT  \\\n",
       "0            Streets - Street Deterioration    STREETSW   37.78827341554735,   \n",
       "1             Streets - Potholes/Depression    STREETSW  37.827783911702205,   \n",
       "2  Streets/Sidewalks - Curb & Gutter Repair    STREETSW  37.806380392636356,   \n",
       "3            Streets - Street Deterioration    STREETSW   37.83726266269269,   \n",
       "4            Streets - Street Deterioration    STREETSW   37.81606614536522,   \n",
       "\n",
       "           LONG    STATUS DATETIMECLOSED COUNCILDISTRICT  \\\n",
       "0  -122.1901048  UNFUNDED                           CCD4   \n",
       "1  -122.1948242    CANCEL                           CCD4   \n",
       "2  -122.2072523  UNFUNDED                           CCD4   \n",
       "3  -122.2257336    CLOSED                           CCD1   \n",
       "4    -122.26249  UNFUNDED                           CCD3   \n",
       "\n",
       "                PROBADDRESS     City State TIMETOCLOSE geometry  \n",
       "0            4448 PAMPAS AV  Oakland    CA       40000     None  \n",
       "1                8 RYDAL CT  Oakland    CA       40000     None  \n",
       "2          4100 LINCOLN AVE  Oakland    CA       40000     None  \n",
       "3  HARBORD DR & FLORENCE AV  Oakland    CA       40000     None  \n",
       "4               275 28TH ST  Oakland    CA       40000     None  "
      ]
     },
     "execution_count": 3,
     "metadata": {},
     "output_type": "execute_result"
    }
   ],
   "source": [
    "oakland09.head()"
   ]
  },
  {
   "cell_type": "markdown",
   "id": "888a72b9-20b7-4865-a081-19043a127b77",
   "metadata": {},
   "source": [
    "I have this organized by the longest time it took to close a request, so basically it's pretty wonky right now but I am concerned about mapping it so I want to see if I'll be able to do that with my current coordinates."
   ]
  },
  {
   "cell_type": "code",
   "execution_count": 4,
   "id": "df908d4d-d5eb-4491-88f6-7531d405c5e5",
   "metadata": {},
   "outputs": [
    {
     "data": {
      "text/plain": [
       "<AxesSubplot:>"
      ]
     },
     "execution_count": 4,
     "metadata": {},
     "output_type": "execute_result"
    },
    {
     "data": {
      "image/png": "[encoded data removed]",
      "text/plain": [
       "<Figure size 432x288 with 1 Axes>"
      ]
     },
     "metadata": {
      "needs_background": "light"
     },
     "output_type": "display_data"
    }
   ],
   "source": [
    "oakland09.plot()"
   ]
  },
  {
   "cell_type": "markdown",
   "id": "a9a52516-4071-4721-9811-b95fc7135533",
   "metadata": {},
   "source": [
    "Okay, yeah, I think I need to do some more things with this data before I try mapping it. Maybe I should check the types of data each column is."
   ]
  },
  {
   "cell_type": "code",
   "execution_count": 5,
   "id": "84d23e2a-4a2e-4ba9-ba5e-4febc56eddc0",
   "metadata": {},
   "outputs": [
    {
     "name": "stdout",
     "output_type": "stream",
     "text": [
      "<class 'geopandas.geodataframe.GeoDataFrame'>\n",
      "RangeIndex: 526 entries, 0 to 525\n",
      "Data columns (total 15 columns):\n",
      " #   Column           Non-Null Count  Dtype   \n",
      "---  ------           --------------  -----   \n",
      " 0   REQUESTID        526 non-null    object  \n",
      " 1   DATETIMEINIT     526 non-null    object  \n",
      " 2   SOURCE           526 non-null    object  \n",
      " 3   DESCRIPTION      526 non-null    object  \n",
      " 4   REQCATEGORY      526 non-null    object  \n",
      " 5   LAT              526 non-null    object  \n",
      " 6   LONG             526 non-null    object  \n",
      " 7   STATUS           526 non-null    object  \n",
      " 8   DATETIMECLOSED   526 non-null    object  \n",
      " 9   COUNCILDISTRICT  526 non-null    object  \n",
      " 10  PROBADDRESS      526 non-null    object  \n",
      " 11  City             526 non-null    object  \n",
      " 12  State            526 non-null    object  \n",
      " 13  TIMETOCLOSE      526 non-null    object  \n",
      " 14  geometry         0 non-null      geometry\n",
      "dtypes: geometry(1), object(14)\n",
      "memory usage: 61.8+ KB\n"
     ]
    }
   ],
   "source": [
    "oakland09.info()"
   ]
  },
  {
   "cell_type": "markdown",
   "id": "2535ee3b-b48a-4723-a0ca-1bb037087c5a",
   "metadata": {},
   "source": [
    "So I would guess that geopandas doesn't recognize the coordinates as coordinates because they should be floats? Maybe I can try to fix that"
   ]
  },
  {
   "cell_type": "code",
   "execution_count": 6,
   "id": "168c65c2-1e4e-42ec-81bd-d64fbb009223",
   "metadata": {},
   "outputs": [],
   "source": [
    "LAT = oakland09['LAT']"
   ]
  },
  {
   "cell_type": "code",
   "execution_count": 7,
   "id": "786504ae-fde4-441d-8322-6473e1926963",
   "metadata": {},
   "outputs": [
    {
     "data": {
      "text/plain": [
       "str"
      ]
     },
     "execution_count": 7,
     "metadata": {},
     "output_type": "execute_result"
    }
   ],
   "source": [
    "type('LAT')"
   ]
  },
  {
   "cell_type": "code",
   "execution_count": 8,
   "id": "40f50dae-1230-401b-a78d-43938325eac3",
   "metadata": {},
   "outputs": [
    {
     "ename": "ValueError",
     "evalue": "could not convert string to float: 'LAT'",
     "output_type": "error",
     "traceback": [
      "\u001b[0;31m---------------------------------------------------------------------------\u001b[0m",
      "\u001b[0;31mValueError\u001b[0m                                Traceback (most recent call last)",
      "\u001b[0;32m/tmp/ipykernel_53/3866435154.py\u001b[0m in \u001b[0;36m<module>\u001b[0;34m\u001b[0m\n\u001b[0;32m----> 1\u001b[0;31m \u001b[0mLAT\u001b[0m \u001b[0;34m=\u001b[0m \u001b[0mfloat\u001b[0m\u001b[0;34m(\u001b[0m\u001b[0;34m'LAT'\u001b[0m\u001b[0;34m)\u001b[0m\u001b[0;34m\u001b[0m\u001b[0;34m\u001b[0m\u001b[0m\n\u001b[0m",
      "\u001b[0;31mValueError\u001b[0m: could not convert string to float: 'LAT'"
     ]
    }
   ],
   "source": [
    "LAT = float('LAT')"
   ]
  },
  {
   "cell_type": "markdown",
   "id": "f3cd13cb-ebf5-4e2a-aaa9-86dff36da7b4",
   "metadata": {},
   "source": [
    "Uh oh."
   ]
  },
  {
   "cell_type": "markdown",
   "id": "c230b1c2-395e-44c6-9a25-6b69e70dd600",
   "metadata": {},
   "source": [
    "I know that with geopandas, the dtypes are different, so shouldn't it be float64 or int64? Presumably float64 because then it will keep the decimal points. uhhhh"
   ]
  },
  {
   "cell_type": "code",
   "execution_count": 9,
   "id": "c30c1579-b18e-4b11-9530-0ff8088cf826",
   "metadata": {},
   "outputs": [],
   "source": [
    "import matplotlib.pyplot as plt"
   ]
  },
  {
   "cell_type": "code",
   "execution_count": 10,
   "id": "8fd6568b-fc3e-4ed8-9ee2-b8389861e640",
   "metadata": {},
   "outputs": [
    {
     "ename": "NameError",
     "evalue": "name 'float64' is not defined",
     "output_type": "error",
     "traceback": [
      "\u001b[0;31m---------------------------------------------------------------------------\u001b[0m",
      "\u001b[0;31mNameError\u001b[0m                                 Traceback (most recent call last)",
      "\u001b[0;32m/tmp/ipykernel_53/525284863.py\u001b[0m in \u001b[0;36m<module>\u001b[0;34m\u001b[0m\n\u001b[0;32m----> 1\u001b[0;31m \u001b[0moakland09\u001b[0m\u001b[0;34m[\u001b[0m\u001b[0;34m'LAT'\u001b[0m\u001b[0;34m]\u001b[0m \u001b[0;34m=\u001b[0m \u001b[0moakland09\u001b[0m\u001b[0;34m[\u001b[0m\u001b[0;34m'LAT'\u001b[0m\u001b[0;34m]\u001b[0m\u001b[0;34m.\u001b[0m\u001b[0mastype\u001b[0m\u001b[0;34m(\u001b[0m\u001b[0mfloat64\u001b[0m\u001b[0;34m)\u001b[0m\u001b[0;34m\u001b[0m\u001b[0;34m\u001b[0m\u001b[0m\n\u001b[0m",
      "\u001b[0;31mNameError\u001b[0m: name 'float64' is not defined"
     ]
    }
   ],
   "source": [
    "oakland09['LAT'] = oakland09['LAT'].astype(float64)"
   ]
  },
  {
   "cell_type": "markdown",
   "id": "5c55bbb8-8a91-4c7f-b0f7-f6295e63ea5d",
   "metadata": {},
   "source": [
    "I did even more googling so I am going to reupload the new csv where I took out the parentheses. and thennnn maybe do some more stuff like adding points to the lat+long so that it reads correctly?"
   ]
  },
  {
   "cell_type": "code",
   "execution_count": 11,
   "id": "96dbefbc-75c6-4bc6-9e85-5dc6256ba41e",
   "metadata": {},
   "outputs": [],
   "source": [
    "oakland09 = gpd.read_file('oakland09data.csv')"
   ]
  },
  {
   "cell_type": "code",
   "execution_count": 12,
   "id": "d60cb02c-2bed-4aba-b8a5-e4f775546b07",
   "metadata": {},
   "outputs": [
    {
     "data": {
      "text/html": [
       "<div>\n",
       "<style scoped>\n",
       "    .dataframe tbody tr th:only-of-type {\n",
       "        vertical-align: middle;\n",
       "    }\n",
       "\n",
       "    .dataframe tbody tr th {\n",
       "        vertical-align: top;\n",
       "    }\n",
       "\n",
       "    .dataframe thead th {\n",
       "        text-align: right;\n",
       "    }\n",
       "</style>\n",
       "<table border=\"1\" class=\"dataframe\">\n",
       "  <thead>\n",
       "    <tr style=\"text-align: right;\">\n",
       "      <th></th>\n",
       "      <th>REQUESTID</th>\n",
       "      <th>DATETIMEINIT</th>\n",
       "      <th>SOURCE</th>\n",
       "      <th>DESCRIPTION</th>\n",
       "      <th>REQCATEGORY</th>\n",
       "      <th>LAT</th>\n",
       "      <th>LONG</th>\n",
       "      <th>STATUS</th>\n",
       "      <th>DATETIMECLOSED</th>\n",
       "      <th>COUNCILDISTRICT</th>\n",
       "      <th>PROBADDRESS</th>\n",
       "      <th>City</th>\n",
       "      <th>State</th>\n",
       "      <th>TIMETOCLOSE</th>\n",
       "      <th>geometry</th>\n",
       "    </tr>\n",
       "  </thead>\n",
       "  <tbody>\n",
       "    <tr>\n",
       "      <th>0</th>\n",
       "      <td>323,439</td>\n",
       "      <td>12/8/2009 11:05</td>\n",
       "      <td>Phone or Email</td>\n",
       "      <td>Streets - Street Deterioration</td>\n",
       "      <td>STREETSW</td>\n",
       "      <td>37.78827341554735,</td>\n",
       "      <td>-122.1901048</td>\n",
       "      <td>UNFUNDED</td>\n",
       "      <td></td>\n",
       "      <td>CCD4</td>\n",
       "      <td>4448 PAMPAS AV</td>\n",
       "      <td>Oakland</td>\n",
       "      <td>CA</td>\n",
       "      <td>40000</td>\n",
       "      <td>None</td>\n",
       "    </tr>\n",
       "    <tr>\n",
       "      <th>1</th>\n",
       "      <td>323,234</td>\n",
       "      <td>12/4/2009 16:20</td>\n",
       "      <td>Phone or Email</td>\n",
       "      <td>Streets - Potholes/Depression</td>\n",
       "      <td>STREETSW</td>\n",
       "      <td>37.827783911702205,</td>\n",
       "      <td>-122.1948242</td>\n",
       "      <td>CANCEL</td>\n",
       "      <td></td>\n",
       "      <td>CCD4</td>\n",
       "      <td>8 RYDAL CT</td>\n",
       "      <td>Oakland</td>\n",
       "      <td>CA</td>\n",
       "      <td>40000</td>\n",
       "      <td>None</td>\n",
       "    </tr>\n",
       "    <tr>\n",
       "      <th>2</th>\n",
       "      <td>323,034</td>\n",
       "      <td>12/2/2009 12:51</td>\n",
       "      <td>Phone or Email</td>\n",
       "      <td>Streets/Sidewalks - Curb &amp; Gutter Repair</td>\n",
       "      <td>STREETSW</td>\n",
       "      <td>37.806380392636356,</td>\n",
       "      <td>-122.2072523</td>\n",
       "      <td>UNFUNDED</td>\n",
       "      <td></td>\n",
       "      <td>CCD4</td>\n",
       "      <td>4100 LINCOLN AVE</td>\n",
       "      <td>Oakland</td>\n",
       "      <td>CA</td>\n",
       "      <td>40000</td>\n",
       "      <td>None</td>\n",
       "    </tr>\n",
       "    <tr>\n",
       "      <th>3</th>\n",
       "      <td>323,003</td>\n",
       "      <td>12/2/2009 10:23</td>\n",
       "      <td>Phone or Email</td>\n",
       "      <td>Streets - Street Deterioration</td>\n",
       "      <td>STREETSW</td>\n",
       "      <td>37.83726266269269,</td>\n",
       "      <td>-122.2257336</td>\n",
       "      <td>CLOSED</td>\n",
       "      <td></td>\n",
       "      <td>CCD1</td>\n",
       "      <td>HARBORD DR &amp; FLORENCE AV</td>\n",
       "      <td>Oakland</td>\n",
       "      <td>CA</td>\n",
       "      <td>40000</td>\n",
       "      <td>None</td>\n",
       "    </tr>\n",
       "    <tr>\n",
       "      <th>4</th>\n",
       "      <td>321,683</td>\n",
       "      <td>11/13/2009 12:58</td>\n",
       "      <td>Phone or Email</td>\n",
       "      <td>Streets - Street Deterioration</td>\n",
       "      <td>STREETSW</td>\n",
       "      <td>37.81606614536522,</td>\n",
       "      <td>-122.26249</td>\n",
       "      <td>UNFUNDED</td>\n",
       "      <td></td>\n",
       "      <td>CCD3</td>\n",
       "      <td>275 28TH ST</td>\n",
       "      <td>Oakland</td>\n",
       "      <td>CA</td>\n",
       "      <td>40000</td>\n",
       "      <td>None</td>\n",
       "    </tr>\n",
       "  </tbody>\n",
       "</table>\n",
       "</div>"
      ],
      "text/plain": [
       "  REQUESTID      DATETIMEINIT          SOURCE  \\\n",
       "0   323,439   12/8/2009 11:05  Phone or Email   \n",
       "1   323,234   12/4/2009 16:20  Phone or Email   \n",
       "2   323,034   12/2/2009 12:51  Phone or Email   \n",
       "3   323,003   12/2/2009 10:23  Phone or Email   \n",
       "4   321,683  11/13/2009 12:58  Phone or Email   \n",
       "\n",
       "                                DESCRIPTION REQCATEGORY                  LAT  \\\n",
       "0            Streets - Street Deterioration    STREETSW   37.78827341554735,   \n",
       "1             Streets - Potholes/Depression    STREETSW  37.827783911702205,   \n",
       "2  Streets/Sidewalks - Curb & Gutter Repair    STREETSW  37.806380392636356,   \n",
       "3            Streets - Street Deterioration    STREETSW   37.83726266269269,   \n",
       "4            Streets - Street Deterioration    STREETSW   37.81606614536522,   \n",
       "\n",
       "           LONG    STATUS DATETIMECLOSED COUNCILDISTRICT  \\\n",
       "0  -122.1901048  UNFUNDED                           CCD4   \n",
       "1  -122.1948242    CANCEL                           CCD4   \n",
       "2  -122.2072523  UNFUNDED                           CCD4   \n",
       "3  -122.2257336    CLOSED                           CCD1   \n",
       "4    -122.26249  UNFUNDED                           CCD3   \n",
       "\n",
       "                PROBADDRESS     City State TIMETOCLOSE geometry  \n",
       "0            4448 PAMPAS AV  Oakland    CA       40000     None  \n",
       "1                8 RYDAL CT  Oakland    CA       40000     None  \n",
       "2          4100 LINCOLN AVE  Oakland    CA       40000     None  \n",
       "3  HARBORD DR & FLORENCE AV  Oakland    CA       40000     None  \n",
       "4               275 28TH ST  Oakland    CA       40000     None  "
      ]
     },
     "execution_count": 12,
     "metadata": {},
     "output_type": "execute_result"
    }
   ],
   "source": [
    "oakland09.head()"
   ]
  },
  {
   "cell_type": "markdown",
   "id": "18016d01-8d0b-403f-b0f8-fc7ddcdc27b9",
   "metadata": {},
   "source": [
    "Okay, cool. When I googled it, a site said maybe try importing shapely and geometry"
   ]
  },
  {
   "cell_type": "code",
   "execution_count": 13,
   "id": "9eb65307-6d56-43d6-86a7-a02a7934db00",
   "metadata": {},
   "outputs": [],
   "source": [
    "from shapely.geometry import Point, Polygon"
   ]
  },
  {
   "cell_type": "markdown",
   "id": "ea14a69a-73a2-46a2-b1e4-5a92b3fb3585",
   "metadata": {},
   "source": [
    "I don't really know what that means but I'm going to try it anyway?? We'll see what happens"
   ]
  },
  {
   "cell_type": "code",
   "execution_count": 14,
   "id": "09612893-404f-44d7-9d4d-de74be6246a0",
   "metadata": {},
   "outputs": [
    {
     "data": {
      "text/plain": [
       "<AxesSubplot:>"
      ]
     },
     "execution_count": 14,
     "metadata": {},
     "output_type": "execute_result"
    },
    {
     "data": {
      "image/png": "[encoded data removed]",
      "text/plain": [
       "<Figure size 432x288 with 225 Axes>"
      ]
     },
     "metadata": {
      "needs_background": "light"
     },
     "output_type": "display_data"
    },
    {
     "data": {
      "image/png": "[encoded data removed]",
      "text/plain": [
       "<Figure size 432x288 with 1 Axes>"
      ]
     },
     "metadata": {
      "needs_background": "light"
     },
     "output_type": "display_data"
    }
   ],
   "source": [
    "fig,ax=plt.subplots(15,15)\n",
    "oakland09.plot()"
   ]
  },
  {
   "cell_type": "markdown",
   "id": "30f64dda-e181-4161-84a2-41e0e3186514",
   "metadata": {},
   "source": [
    "jesus mary and joseph what have i done"
   ]
  },
  {
   "cell_type": "markdown",
   "id": "53c42827-b775-4ab2-848a-84606dbb6c0d",
   "metadata": {},
   "source": [
    "now that i've summoned a demon, i will try something different"
   ]
  },
  {
   "cell_type": "markdown",
   "id": "467437fa-812f-4fb3-a0ad-cdb7c71e5945",
   "metadata": {},
   "source": [
    "maybe just plot it again now that I have the shapely file?"
   ]
  },
  {
   "cell_type": "code",
   "execution_count": 15,
   "id": "408af732-f684-4aad-a8df-444338dc11df",
   "metadata": {},
   "outputs": [
    {
     "data": {
      "text/plain": [
       "<AxesSubplot:>"
      ]
     },
     "execution_count": 15,
     "metadata": {},
     "output_type": "execute_result"
    },
    {
     "data": {
      "image/png": "[encoded data removed]",
      "text/plain": [
       "<Figure size 432x288 with 1 Axes>"
      ]
     },
     "metadata": {
      "needs_background": "light"
     },
     "output_type": "display_data"
    }
   ],
   "source": [
    "oakland09.plot()"
   ]
  },
  {
   "cell_type": "code",
   "execution_count": 16,
   "id": "194ea0b6-ca6e-46f8-bf1f-a1bf1bc889e1",
   "metadata": {},
   "outputs": [
    {
     "data": {
      "text/html": [
       "<div>\n",
       "<style scoped>\n",
       "    .dataframe tbody tr th:only-of-type {\n",
       "        vertical-align: middle;\n",
       "    }\n",
       "\n",
       "    .dataframe tbody tr th {\n",
       "        vertical-align: top;\n",
       "    }\n",
       "\n",
       "    .dataframe thead th {\n",
       "        text-align: right;\n",
       "    }\n",
       "</style>\n",
       "<table border=\"1\" class=\"dataframe\">\n",
       "  <thead>\n",
       "    <tr style=\"text-align: right;\">\n",
       "      <th></th>\n",
       "      <th>REQUESTID</th>\n",
       "      <th>DATETIMEINIT</th>\n",
       "      <th>SOURCE</th>\n",
       "      <th>DESCRIPTION</th>\n",
       "      <th>REQCATEGORY</th>\n",
       "      <th>LAT</th>\n",
       "      <th>LONG</th>\n",
       "      <th>STATUS</th>\n",
       "      <th>DATETIMECLOSED</th>\n",
       "      <th>COUNCILDISTRICT</th>\n",
       "      <th>PROBADDRESS</th>\n",
       "      <th>City</th>\n",
       "      <th>State</th>\n",
       "      <th>TIMETOCLOSE</th>\n",
       "      <th>geometry</th>\n",
       "    </tr>\n",
       "  </thead>\n",
       "  <tbody>\n",
       "    <tr>\n",
       "      <th>521</th>\n",
       "      <td>317,437</td>\n",
       "      <td>10/5/2009 12:11</td>\n",
       "      <td>Phone or Email</td>\n",
       "      <td>Streets - Potholes/Depression</td>\n",
       "      <td>STREETSW</td>\n",
       "      <td>37.819131773347515,</td>\n",
       "      <td>-122.2534458</td>\n",
       "      <td>CLOSED</td>\n",
       "      <td>10/5/2009 14:09</td>\n",
       "      <td>CCD2</td>\n",
       "      <td>OAKLAND AV &amp; SANTA CLARA AV</td>\n",
       "      <td>Oakland</td>\n",
       "      <td>CA</td>\n",
       "      <td>0.1</td>\n",
       "      <td>None</td>\n",
       "    </tr>\n",
       "    <tr>\n",
       "      <th>522</th>\n",
       "      <td>317,054</td>\n",
       "      <td>9/30/2009 13:50</td>\n",
       "      <td>Phone or Email</td>\n",
       "      <td>Streets - Potholes/Depression</td>\n",
       "      <td>STREETSW</td>\n",
       "      <td>37.779466791581314,</td>\n",
       "      <td>-122.205585</td>\n",
       "      <td>CLOSED</td>\n",
       "      <td>9/30/2009 15:09</td>\n",
       "      <td>CCD5</td>\n",
       "      <td>CONGRESS AV &amp; COURTLAND AV</td>\n",
       "      <td>Oakland</td>\n",
       "      <td>CA</td>\n",
       "      <td>0.1</td>\n",
       "      <td>None</td>\n",
       "    </tr>\n",
       "    <tr>\n",
       "      <th>523</th>\n",
       "      <td>322,684</td>\n",
       "      <td>11/25/2009 11:17</td>\n",
       "      <td>Phone or Email</td>\n",
       "      <td>Streets/Sidewalks - Portable Barriers Maint</td>\n",
       "      <td>STREETSW</td>\n",
       "      <td>37.8640620568929,</td>\n",
       "      <td>-122.2332864</td>\n",
       "      <td>CLOSED</td>\n",
       "      <td>11/25/2009 11:20</td>\n",
       "      <td>CCD1</td>\n",
       "      <td>CLAREMONT AV &amp; RISPIN DR</td>\n",
       "      <td>Oakland</td>\n",
       "      <td>CA</td>\n",
       "      <td>0</td>\n",
       "      <td>None</td>\n",
       "    </tr>\n",
       "    <tr>\n",
       "      <th>524</th>\n",
       "      <td>317,946</td>\n",
       "      <td>10/8/2009 15:58</td>\n",
       "      <td>Phone or Email</td>\n",
       "      <td>Streets - Potholes/Depression</td>\n",
       "      <td>STREETSW</td>\n",
       "      <td>37.8329652282042,</td>\n",
       "      <td>-122.2648865</td>\n",
       "      <td>CLOSED</td>\n",
       "      <td>10/8/2009 16:00</td>\n",
       "      <td>CCD1</td>\n",
       "      <td>541  45TH STREET</td>\n",
       "      <td>Oakland</td>\n",
       "      <td>CA</td>\n",
       "      <td>0</td>\n",
       "      <td>None</td>\n",
       "    </tr>\n",
       "    <tr>\n",
       "      <th>525</th>\n",
       "      <td>323,244</td>\n",
       "      <td>12/6/2009 16:28</td>\n",
       "      <td>Phone or Email</td>\n",
       "      <td>Streets - Potholes/Depression</td>\n",
       "      <td>STREETSW</td>\n",
       "      <td>37.84602323049844,</td>\n",
       "      <td>-122.2548987</td>\n",
       "      <td>CLOSED</td>\n",
       "      <td>12/6/2009 16:30</td>\n",
       "      <td>CCD1</td>\n",
       "      <td>5800 CLAREMONT AVE</td>\n",
       "      <td>Oakland</td>\n",
       "      <td>CA</td>\n",
       "      <td>0</td>\n",
       "      <td>None</td>\n",
       "    </tr>\n",
       "  </tbody>\n",
       "</table>\n",
       "</div>"
      ],
      "text/plain": [
       "    REQUESTID      DATETIMEINIT          SOURCE  \\\n",
       "521   317,437   10/5/2009 12:11  Phone or Email   \n",
       "522   317,054   9/30/2009 13:50  Phone or Email   \n",
       "523   322,684  11/25/2009 11:17  Phone or Email   \n",
       "524   317,946   10/8/2009 15:58  Phone or Email   \n",
       "525   323,244   12/6/2009 16:28  Phone or Email   \n",
       "\n",
       "                                     DESCRIPTION REQCATEGORY  \\\n",
       "521                Streets - Potholes/Depression    STREETSW   \n",
       "522                Streets - Potholes/Depression    STREETSW   \n",
       "523  Streets/Sidewalks - Portable Barriers Maint    STREETSW   \n",
       "524                Streets - Potholes/Depression    STREETSW   \n",
       "525                Streets - Potholes/Depression    STREETSW   \n",
       "\n",
       "                     LAT          LONG  STATUS    DATETIMECLOSED  \\\n",
       "521  37.819131773347515,  -122.2534458  CLOSED   10/5/2009 14:09   \n",
       "522  37.779466791581314,   -122.205585  CLOSED   9/30/2009 15:09   \n",
       "523    37.8640620568929,  -122.2332864  CLOSED  11/25/2009 11:20   \n",
       "524    37.8329652282042,  -122.2648865  CLOSED   10/8/2009 16:00   \n",
       "525   37.84602323049844,  -122.2548987  CLOSED   12/6/2009 16:30   \n",
       "\n",
       "    COUNCILDISTRICT                  PROBADDRESS     City State TIMETOCLOSE  \\\n",
       "521            CCD2  OAKLAND AV & SANTA CLARA AV  Oakland    CA         0.1   \n",
       "522            CCD5   CONGRESS AV & COURTLAND AV  Oakland    CA         0.1   \n",
       "523            CCD1     CLAREMONT AV & RISPIN DR  Oakland    CA           0   \n",
       "524            CCD1             541  45TH STREET  Oakland    CA           0   \n",
       "525            CCD1           5800 CLAREMONT AVE  Oakland    CA           0   \n",
       "\n",
       "    geometry  \n",
       "521     None  \n",
       "522     None  \n",
       "523     None  \n",
       "524     None  \n",
       "525     None  "
      ]
     },
     "execution_count": 16,
     "metadata": {},
     "output_type": "execute_result"
    }
   ],
   "source": [
    "oakland09.tail()"
   ]
  },
  {
   "cell_type": "markdown",
   "id": "4ec4696c-cdd7-409c-88c9-9b3a70af4abc",
   "metadata": {},
   "source": [
    "Okay, so somehow it worked when I plotted it but then the kernel died and once I restarted it and re-ran the cells, the points within Oakland aren't showing up anymore."
   ]
  },
  {
   "cell_type": "code",
   "execution_count": 17,
   "id": "c6232b67-83e5-420d-82cb-079d83a2d12f",
   "metadata": {},
   "outputs": [
    {
     "data": {
      "text/plain": [
       "geopandas.geodataframe.GeoDataFrame"
      ]
     },
     "execution_count": 17,
     "metadata": {},
     "output_type": "execute_result"
    }
   ],
   "source": [
    "type(oakland09)"
   ]
  },
  {
   "cell_type": "code",
   "execution_count": 18,
   "id": "4e495f77-eb3f-46ba-8499-51a05df45810",
   "metadata": {},
   "outputs": [],
   "source": [
    "oakland_plot = oakland09[['LAT','LONG']]"
   ]
  },
  {
   "cell_type": "code",
   "execution_count": 19,
   "id": "9a09652d-961d-4ec6-933c-24dccfd4c053",
   "metadata": {},
   "outputs": [
    {
     "data": {
      "text/html": [
       "<div>\n",
       "<style scoped>\n",
       "    .dataframe tbody tr th:only-of-type {\n",
       "        vertical-align: middle;\n",
       "    }\n",
       "\n",
       "    .dataframe tbody tr th {\n",
       "        vertical-align: top;\n",
       "    }\n",
       "\n",
       "    .dataframe thead th {\n",
       "        text-align: right;\n",
       "    }\n",
       "</style>\n",
       "<table border=\"1\" class=\"dataframe\">\n",
       "  <thead>\n",
       "    <tr style=\"text-align: right;\">\n",
       "      <th></th>\n",
       "      <th>LAT</th>\n",
       "      <th>LONG</th>\n",
       "    </tr>\n",
       "  </thead>\n",
       "  <tbody>\n",
       "    <tr>\n",
       "      <th>0</th>\n",
       "      <td>37.78827341554735,</td>\n",
       "      <td>-122.1901048</td>\n",
       "    </tr>\n",
       "    <tr>\n",
       "      <th>1</th>\n",
       "      <td>37.827783911702205,</td>\n",
       "      <td>-122.1948242</td>\n",
       "    </tr>\n",
       "    <tr>\n",
       "      <th>2</th>\n",
       "      <td>37.806380392636356,</td>\n",
       "      <td>-122.2072523</td>\n",
       "    </tr>\n",
       "    <tr>\n",
       "      <th>3</th>\n",
       "      <td>37.83726266269269,</td>\n",
       "      <td>-122.2257336</td>\n",
       "    </tr>\n",
       "    <tr>\n",
       "      <th>4</th>\n",
       "      <td>37.81606614536522,</td>\n",
       "      <td>-122.26249</td>\n",
       "    </tr>\n",
       "    <tr>\n",
       "      <th>...</th>\n",
       "      <td>...</td>\n",
       "      <td>...</td>\n",
       "    </tr>\n",
       "    <tr>\n",
       "      <th>521</th>\n",
       "      <td>37.819131773347515,</td>\n",
       "      <td>-122.2534458</td>\n",
       "    </tr>\n",
       "    <tr>\n",
       "      <th>522</th>\n",
       "      <td>37.779466791581314,</td>\n",
       "      <td>-122.205585</td>\n",
       "    </tr>\n",
       "    <tr>\n",
       "      <th>523</th>\n",
       "      <td>37.8640620568929,</td>\n",
       "      <td>-122.2332864</td>\n",
       "    </tr>\n",
       "    <tr>\n",
       "      <th>524</th>\n",
       "      <td>37.8329652282042,</td>\n",
       "      <td>-122.2648865</td>\n",
       "    </tr>\n",
       "    <tr>\n",
       "      <th>525</th>\n",
       "      <td>37.84602323049844,</td>\n",
       "      <td>-122.2548987</td>\n",
       "    </tr>\n",
       "  </tbody>\n",
       "</table>\n",
       "<p>526 rows × 2 columns</p>\n",
       "</div>"
      ],
      "text/plain": [
       "                     LAT          LONG\n",
       "0     37.78827341554735,  -122.1901048\n",
       "1    37.827783911702205,  -122.1948242\n",
       "2    37.806380392636356,  -122.2072523\n",
       "3     37.83726266269269,  -122.2257336\n",
       "4     37.81606614536522,    -122.26249\n",
       "..                   ...           ...\n",
       "521  37.819131773347515,  -122.2534458\n",
       "522  37.779466791581314,   -122.205585\n",
       "523    37.8640620568929,  -122.2332864\n",
       "524    37.8329652282042,  -122.2648865\n",
       "525   37.84602323049844,  -122.2548987\n",
       "\n",
       "[526 rows x 2 columns]"
      ]
     },
     "execution_count": 19,
     "metadata": {},
     "output_type": "execute_result"
    }
   ],
   "source": [
    "oakland_plot"
   ]
  },
  {
   "cell_type": "markdown",
   "id": "5f8131ee-4e7e-47dd-a9ee-38d4f29c8b86",
   "metadata": {},
   "source": [
    "Is it the commas???"
   ]
  },
  {
   "cell_type": "code",
   "execution_count": 23,
   "id": "6449d220-2932-4d18-8c5d-2db16b1a7a8a",
   "metadata": {},
   "outputs": [
    {
     "data": {
      "text/html": [
       "<div>\n",
       "<style scoped>\n",
       "    .dataframe tbody tr th:only-of-type {\n",
       "        vertical-align: middle;\n",
       "    }\n",
       "\n",
       "    .dataframe tbody tr th {\n",
       "        vertical-align: top;\n",
       "    }\n",
       "\n",
       "    .dataframe thead th {\n",
       "        text-align: right;\n",
       "    }\n",
       "</style>\n",
       "<table border=\"1\" class=\"dataframe\">\n",
       "  <thead>\n",
       "    <tr style=\"text-align: right;\">\n",
       "      <th></th>\n",
       "      <th>REQUESTID</th>\n",
       "      <th>DATETIMEINIT</th>\n",
       "      <th>SOURCE</th>\n",
       "      <th>DESCRIPTION</th>\n",
       "      <th>REQCATEGORY</th>\n",
       "      <th>LAT</th>\n",
       "      <th>LONG</th>\n",
       "      <th>STATUS</th>\n",
       "      <th>DATETIMECLOSED</th>\n",
       "      <th>COUNCILDISTRICT</th>\n",
       "      <th>PROBADDRESS</th>\n",
       "      <th>City</th>\n",
       "      <th>State</th>\n",
       "      <th>TIMETOCLOSE</th>\n",
       "      <th>geometry</th>\n",
       "    </tr>\n",
       "  </thead>\n",
       "  <tbody>\n",
       "    <tr>\n",
       "      <th>0</th>\n",
       "      <td>323,439</td>\n",
       "      <td>12/8/2009 11:05</td>\n",
       "      <td>Phone or Email</td>\n",
       "      <td>Streets - Street Deterioration</td>\n",
       "      <td>STREETSW</td>\n",
       "      <td>37.78827342</td>\n",
       "      <td>-122.1901048</td>\n",
       "      <td>UNFUNDED</td>\n",
       "      <td></td>\n",
       "      <td>CCD4</td>\n",
       "      <td>4448 PAMPAS AV</td>\n",
       "      <td>Oakland</td>\n",
       "      <td>CA</td>\n",
       "      <td>40000</td>\n",
       "      <td>None</td>\n",
       "    </tr>\n",
       "    <tr>\n",
       "      <th>1</th>\n",
       "      <td>323,234</td>\n",
       "      <td>12/4/2009 16:20</td>\n",
       "      <td>Phone or Email</td>\n",
       "      <td>Streets - Potholes/Depression</td>\n",
       "      <td>STREETSW</td>\n",
       "      <td>37.82778391</td>\n",
       "      <td>-122.1948242</td>\n",
       "      <td>CANCEL</td>\n",
       "      <td></td>\n",
       "      <td>CCD4</td>\n",
       "      <td>8 RYDAL CT</td>\n",
       "      <td>Oakland</td>\n",
       "      <td>CA</td>\n",
       "      <td>40000</td>\n",
       "      <td>None</td>\n",
       "    </tr>\n",
       "    <tr>\n",
       "      <th>2</th>\n",
       "      <td>323,034</td>\n",
       "      <td>12/2/2009 12:51</td>\n",
       "      <td>Phone or Email</td>\n",
       "      <td>Streets/Sidewalks - Curb &amp; Gutter Repair</td>\n",
       "      <td>STREETSW</td>\n",
       "      <td>37.80638039</td>\n",
       "      <td>-122.2072523</td>\n",
       "      <td>UNFUNDED</td>\n",
       "      <td></td>\n",
       "      <td>CCD4</td>\n",
       "      <td>4100 LINCOLN AVE</td>\n",
       "      <td>Oakland</td>\n",
       "      <td>CA</td>\n",
       "      <td>40000</td>\n",
       "      <td>None</td>\n",
       "    </tr>\n",
       "    <tr>\n",
       "      <th>3</th>\n",
       "      <td>323,003</td>\n",
       "      <td>12/2/2009 10:23</td>\n",
       "      <td>Phone or Email</td>\n",
       "      <td>Streets - Street Deterioration</td>\n",
       "      <td>STREETSW</td>\n",
       "      <td>37.83726266</td>\n",
       "      <td>-122.2257336</td>\n",
       "      <td>CLOSED</td>\n",
       "      <td></td>\n",
       "      <td>CCD1</td>\n",
       "      <td>HARBORD DR &amp; FLORENCE AV</td>\n",
       "      <td>Oakland</td>\n",
       "      <td>CA</td>\n",
       "      <td>40000</td>\n",
       "      <td>None</td>\n",
       "    </tr>\n",
       "    <tr>\n",
       "      <th>4</th>\n",
       "      <td>321,683</td>\n",
       "      <td>11/13/2009 12:58</td>\n",
       "      <td>Phone or Email</td>\n",
       "      <td>Streets - Street Deterioration</td>\n",
       "      <td>STREETSW</td>\n",
       "      <td>37.81606615</td>\n",
       "      <td>-122.26249</td>\n",
       "      <td>UNFUNDED</td>\n",
       "      <td></td>\n",
       "      <td>CCD3</td>\n",
       "      <td>275 28TH ST</td>\n",
       "      <td>Oakland</td>\n",
       "      <td>CA</td>\n",
       "      <td>40000</td>\n",
       "      <td>None</td>\n",
       "    </tr>\n",
       "  </tbody>\n",
       "</table>\n",
       "</div>"
      ],
      "text/plain": [
       "  REQUESTID      DATETIMEINIT          SOURCE  \\\n",
       "0   323,439   12/8/2009 11:05  Phone or Email   \n",
       "1   323,234   12/4/2009 16:20  Phone or Email   \n",
       "2   323,034   12/2/2009 12:51  Phone or Email   \n",
       "3   323,003   12/2/2009 10:23  Phone or Email   \n",
       "4   321,683  11/13/2009 12:58  Phone or Email   \n",
       "\n",
       "                                DESCRIPTION REQCATEGORY          LAT  \\\n",
       "0            Streets - Street Deterioration    STREETSW  37.78827342   \n",
       "1             Streets - Potholes/Depression    STREETSW  37.82778391   \n",
       "2  Streets/Sidewalks - Curb & Gutter Repair    STREETSW  37.80638039   \n",
       "3            Streets - Street Deterioration    STREETSW  37.83726266   \n",
       "4            Streets - Street Deterioration    STREETSW  37.81606615   \n",
       "\n",
       "           LONG    STATUS DATETIMECLOSED COUNCILDISTRICT  \\\n",
       "0  -122.1901048  UNFUNDED                           CCD4   \n",
       "1  -122.1948242    CANCEL                           CCD4   \n",
       "2  -122.2072523  UNFUNDED                           CCD4   \n",
       "3  -122.2257336    CLOSED                           CCD1   \n",
       "4    -122.26249  UNFUNDED                           CCD3   \n",
       "\n",
       "                PROBADDRESS     City State TIMETOCLOSE geometry  \n",
       "0            4448 PAMPAS AV  Oakland    CA       40000     None  \n",
       "1                8 RYDAL CT  Oakland    CA       40000     None  \n",
       "2          4100 LINCOLN AVE  Oakland    CA       40000     None  \n",
       "3  HARBORD DR & FLORENCE AV  Oakland    CA       40000     None  \n",
       "4               275 28TH ST  Oakland    CA       40000     None  "
      ]
     },
     "execution_count": 23,
     "metadata": {},
     "output_type": "execute_result"
    }
   ],
   "source": [
    "oakland_09 = gpd.read_file('oakland_data_update.csv')\n",
    "oakland_09.head()"
   ]
  },
  {
   "cell_type": "markdown",
   "id": "5c93b7d1-1d3d-4918-8b47-294a08a52388",
   "metadata": {},
   "source": [
    "Okay maybe now I can plot it but I will not count on it"
   ]
  },
  {
   "cell_type": "code",
   "execution_count": 24,
   "id": "9bdf5f03-1f6c-4cc7-9c8f-218dbb211dc6",
   "metadata": {},
   "outputs": [
    {
     "data": {
      "text/plain": [
       "<AxesSubplot:>"
      ]
     },
     "execution_count": 24,
     "metadata": {},
     "output_type": "execute_result"
    },
    {
     "data": {
      "image/png": "[encoded data removed]",
      "text/plain": [
       "<Figure size 432x288 with 1 Axes>"
      ]
     },
     "metadata": {
      "needs_background": "light"
     },
     "output_type": "display_data"
    }
   ],
   "source": [
    "oakland_09.plot()"
   ]
  },
  {
   "cell_type": "markdown",
   "id": "7259c940-1568-42fa-9ccc-50b9714ed1d9",
   "metadata": {},
   "source": [
    "Hmmmmmmm"
   ]
  },
  {
   "cell_type": "code",
   "execution_count": 25,
   "id": "1f566736-e259-45cb-9242-3642c1a41f1a",
   "metadata": {},
   "outputs": [
    {
     "data": {
      "text/html": [
       "<div>\n",
       "<style scoped>\n",
       "    .dataframe tbody tr th:only-of-type {\n",
       "        vertical-align: middle;\n",
       "    }\n",
       "\n",
       "    .dataframe tbody tr th {\n",
       "        vertical-align: top;\n",
       "    }\n",
       "\n",
       "    .dataframe thead th {\n",
       "        text-align: right;\n",
       "    }\n",
       "</style>\n",
       "<table border=\"1\" class=\"dataframe\">\n",
       "  <thead>\n",
       "    <tr style=\"text-align: right;\">\n",
       "      <th></th>\n",
       "      <th>REQUESTID</th>\n",
       "      <th>DATETIMEINIT</th>\n",
       "      <th>SOURCE</th>\n",
       "      <th>DESCRIPTION</th>\n",
       "      <th>REQCATEGORY</th>\n",
       "      <th>LAT</th>\n",
       "      <th>LONG</th>\n",
       "      <th>STATUS</th>\n",
       "      <th>DATETIMECLOSED</th>\n",
       "      <th>COUNCILDISTRICT</th>\n",
       "      <th>PROBADDRESS</th>\n",
       "      <th>City</th>\n",
       "      <th>State</th>\n",
       "      <th>TIMETOCLOSE</th>\n",
       "    </tr>\n",
       "  </thead>\n",
       "  <tbody>\n",
       "    <tr>\n",
       "      <th>0</th>\n",
       "      <td>323,439</td>\n",
       "      <td>12/8/2009 11:05</td>\n",
       "      <td>Phone or Email</td>\n",
       "      <td>Streets - Street Deterioration</td>\n",
       "      <td>STREETSW</td>\n",
       "      <td>37.788273</td>\n",
       "      <td>-122.190105</td>\n",
       "      <td>UNFUNDED</td>\n",
       "      <td>NaN</td>\n",
       "      <td>CCD4</td>\n",
       "      <td>4448 PAMPAS AV</td>\n",
       "      <td>Oakland</td>\n",
       "      <td>CA</td>\n",
       "      <td>40000.0</td>\n",
       "    </tr>\n",
       "    <tr>\n",
       "      <th>1</th>\n",
       "      <td>323,234</td>\n",
       "      <td>12/4/2009 16:20</td>\n",
       "      <td>Phone or Email</td>\n",
       "      <td>Streets - Potholes/Depression</td>\n",
       "      <td>STREETSW</td>\n",
       "      <td>37.827784</td>\n",
       "      <td>-122.194824</td>\n",
       "      <td>CANCEL</td>\n",
       "      <td>NaN</td>\n",
       "      <td>CCD4</td>\n",
       "      <td>8 RYDAL CT</td>\n",
       "      <td>Oakland</td>\n",
       "      <td>CA</td>\n",
       "      <td>40000.0</td>\n",
       "    </tr>\n",
       "    <tr>\n",
       "      <th>2</th>\n",
       "      <td>323,034</td>\n",
       "      <td>12/2/2009 12:51</td>\n",
       "      <td>Phone or Email</td>\n",
       "      <td>Streets/Sidewalks - Curb &amp; Gutter Repair</td>\n",
       "      <td>STREETSW</td>\n",
       "      <td>37.806380</td>\n",
       "      <td>-122.207252</td>\n",
       "      <td>UNFUNDED</td>\n",
       "      <td>NaN</td>\n",
       "      <td>CCD4</td>\n",
       "      <td>4100 LINCOLN AVE</td>\n",
       "      <td>Oakland</td>\n",
       "      <td>CA</td>\n",
       "      <td>40000.0</td>\n",
       "    </tr>\n",
       "    <tr>\n",
       "      <th>3</th>\n",
       "      <td>323,003</td>\n",
       "      <td>12/2/2009 10:23</td>\n",
       "      <td>Phone or Email</td>\n",
       "      <td>Streets - Street Deterioration</td>\n",
       "      <td>STREETSW</td>\n",
       "      <td>37.837263</td>\n",
       "      <td>-122.225734</td>\n",
       "      <td>CLOSED</td>\n",
       "      <td>NaN</td>\n",
       "      <td>CCD1</td>\n",
       "      <td>HARBORD DR &amp; FLORENCE AV</td>\n",
       "      <td>Oakland</td>\n",
       "      <td>CA</td>\n",
       "      <td>40000.0</td>\n",
       "    </tr>\n",
       "    <tr>\n",
       "      <th>4</th>\n",
       "      <td>321,683</td>\n",
       "      <td>11/13/2009 12:58</td>\n",
       "      <td>Phone or Email</td>\n",
       "      <td>Streets - Street Deterioration</td>\n",
       "      <td>STREETSW</td>\n",
       "      <td>37.816066</td>\n",
       "      <td>-122.262490</td>\n",
       "      <td>UNFUNDED</td>\n",
       "      <td>NaN</td>\n",
       "      <td>CCD3</td>\n",
       "      <td>275 28TH ST</td>\n",
       "      <td>Oakland</td>\n",
       "      <td>CA</td>\n",
       "      <td>40000.0</td>\n",
       "    </tr>\n",
       "  </tbody>\n",
       "</table>\n",
       "</div>"
      ],
      "text/plain": [
       "  REQUESTID      DATETIMEINIT          SOURCE  \\\n",
       "0   323,439   12/8/2009 11:05  Phone or Email   \n",
       "1   323,234   12/4/2009 16:20  Phone or Email   \n",
       "2   323,034   12/2/2009 12:51  Phone or Email   \n",
       "3   323,003   12/2/2009 10:23  Phone or Email   \n",
       "4   321,683  11/13/2009 12:58  Phone or Email   \n",
       "\n",
       "                                DESCRIPTION REQCATEGORY        LAT  \\\n",
       "0            Streets - Street Deterioration    STREETSW  37.788273   \n",
       "1             Streets - Potholes/Depression    STREETSW  37.827784   \n",
       "2  Streets/Sidewalks - Curb & Gutter Repair    STREETSW  37.806380   \n",
       "3            Streets - Street Deterioration    STREETSW  37.837263   \n",
       "4            Streets - Street Deterioration    STREETSW  37.816066   \n",
       "\n",
       "         LONG    STATUS DATETIMECLOSED COUNCILDISTRICT  \\\n",
       "0 -122.190105  UNFUNDED            NaN            CCD4   \n",
       "1 -122.194824    CANCEL            NaN            CCD4   \n",
       "2 -122.207252  UNFUNDED            NaN            CCD4   \n",
       "3 -122.225734    CLOSED            NaN            CCD1   \n",
       "4 -122.262490  UNFUNDED            NaN            CCD3   \n",
       "\n",
       "                PROBADDRESS     City State  TIMETOCLOSE  \n",
       "0            4448 PAMPAS AV  Oakland    CA      40000.0  \n",
       "1                8 RYDAL CT  Oakland    CA      40000.0  \n",
       "2          4100 LINCOLN AVE  Oakland    CA      40000.0  \n",
       "3  HARBORD DR & FLORENCE AV  Oakland    CA      40000.0  \n",
       "4               275 28TH ST  Oakland    CA      40000.0  "
      ]
     },
     "execution_count": 25,
     "metadata": {},
     "output_type": "execute_result"
    }
   ],
   "source": [
    "df = pd.read_csv('oakland_data_update.csv')\n",
    "crs = {'init': 'espg:4326'}\n",
    "df.head()"
   ]
  },
  {
   "cell_type": "markdown",
   "id": "90598105-a7dd-44fd-88e2-9765ecef7676",
   "metadata": {},
   "source": [
    "I googled a bunch of different things and I found something that might help me make my coordinates into Points for a new geometry column, so I will try that. I am not sure what I did after i restarted the kernel so that the coordinate points didn't show up as a map, but I definitely did something slightly different so it hasn't shown up this time around."
   ]
  },
  {
   "cell_type": "code",
   "execution_count": 29,
   "id": "8f4ed8a8-4b7a-464d-be85-8f118ac55d64",
   "metadata": {},
   "outputs": [
    {
     "data": {
      "text/plain": [
       "<AxesSubplot:>"
      ]
     },
     "execution_count": 29,
     "metadata": {},
     "output_type": "execute_result"
    },
    {
     "data": {
      "image/png": "[encoded data removed]",
      "text/plain": [
       "<Figure size 432x288 with 1 Axes>"
      ]
     },
     "metadata": {
      "needs_background": "light"
     },
     "output_type": "display_data"
    }
   ],
   "source": [
    "df.plot()"
   ]
  },
  {
   "cell_type": "code",
   "execution_count": 30,
   "id": "c343e6db-4fe4-4478-9c49-8cf086b3739c",
   "metadata": {},
   "outputs": [
    {
     "data": {
      "text/plain": [
       "[<shapely.geometry.point.Point at 0x7fee43ef54f0>,\n",
       " <shapely.geometry.point.Point at 0x7fee43c8d8b0>,\n",
       " <shapely.geometry.point.Point at 0x7fee43c8d7c0>,\n",
       " <shapely.geometry.point.Point at 0x7fee44206d00>,\n",
       " <shapely.geometry.point.Point at 0x7fee43f29ca0>]"
      ]
     },
     "execution_count": 30,
     "metadata": {},
     "output_type": "execute_result"
    }
   ],
   "source": [
    "geometry = [Point(xy) for xy in zip( df[\"LONG\"], df[\"LAT\"])]\n",
    "geometry[:5]"
   ]
  },
  {
   "cell_type": "code",
   "execution_count": 45,
   "id": "5f507c88-b659-48d0-b48c-2045ab5ae9da",
   "metadata": {},
   "outputs": [
    {
     "data": {
      "text/plain": [
       "['REQUESTID',\n",
       " 'DATETIMEINIT',\n",
       " 'SOURCE',\n",
       " 'DESCRIPTION',\n",
       " 'REQCATEGORY',\n",
       " 'LAT',\n",
       " 'LONG',\n",
       " 'STATUS',\n",
       " 'DATETIMECLOSED',\n",
       " 'COUNCILDISTRICT',\n",
       " 'PROBADDRESS',\n",
       " 'City',\n",
       " 'State',\n",
       " 'TIMETOCLOSE',\n",
       " 'geometry']"
      ]
     },
     "execution_count": 45,
     "metadata": {},
     "output_type": "execute_result"
    }
   ],
   "source": [
    "oakland_09.columns.to_list()"
   ]
  },
  {
   "cell_type": "code",
   "execution_count": 46,
   "id": "90225a61-a384-416d-8e95-e24bbad290c7",
   "metadata": {},
   "outputs": [
    {
     "data": {
      "text/html": [
       "<div>\n",
       "<style scoped>\n",
       "    .dataframe tbody tr th:only-of-type {\n",
       "        vertical-align: middle;\n",
       "    }\n",
       "\n",
       "    .dataframe tbody tr th {\n",
       "        vertical-align: top;\n",
       "    }\n",
       "\n",
       "    .dataframe thead th {\n",
       "        text-align: right;\n",
       "    }\n",
       "</style>\n",
       "<table border=\"1\" class=\"dataframe\">\n",
       "  <thead>\n",
       "    <tr style=\"text-align: right;\">\n",
       "      <th></th>\n",
       "      <th>REQUESTID</th>\n",
       "      <th>DATETIMEINIT</th>\n",
       "      <th>SOURCE</th>\n",
       "      <th>DESCRIPTION</th>\n",
       "      <th>REQCATEGORY</th>\n",
       "      <th>LAT</th>\n",
       "      <th>LONG</th>\n",
       "      <th>STATUS</th>\n",
       "      <th>DATETIMECLOSED</th>\n",
       "      <th>COUNCILDISTRICT</th>\n",
       "      <th>PROBADDRESS</th>\n",
       "      <th>City</th>\n",
       "      <th>State</th>\n",
       "      <th>TIMETOCLOSE</th>\n",
       "    </tr>\n",
       "  </thead>\n",
       "  <tbody>\n",
       "    <tr>\n",
       "      <th>0</th>\n",
       "      <td>323,439</td>\n",
       "      <td>12/8/2009 11:05</td>\n",
       "      <td>Phone or Email</td>\n",
       "      <td>Streets - Street Deterioration</td>\n",
       "      <td>STREETSW</td>\n",
       "      <td>37.78827342</td>\n",
       "      <td>-122.1901048</td>\n",
       "      <td>UNFUNDED</td>\n",
       "      <td></td>\n",
       "      <td>CCD4</td>\n",
       "      <td>4448 PAMPAS AV</td>\n",
       "      <td>Oakland</td>\n",
       "      <td>CA</td>\n",
       "      <td>40000</td>\n",
       "    </tr>\n",
       "    <tr>\n",
       "      <th>1</th>\n",
       "      <td>323,234</td>\n",
       "      <td>12/4/2009 16:20</td>\n",
       "      <td>Phone or Email</td>\n",
       "      <td>Streets - Potholes/Depression</td>\n",
       "      <td>STREETSW</td>\n",
       "      <td>37.82778391</td>\n",
       "      <td>-122.1948242</td>\n",
       "      <td>CANCEL</td>\n",
       "      <td></td>\n",
       "      <td>CCD4</td>\n",
       "      <td>8 RYDAL CT</td>\n",
       "      <td>Oakland</td>\n",
       "      <td>CA</td>\n",
       "      <td>40000</td>\n",
       "    </tr>\n",
       "    <tr>\n",
       "      <th>2</th>\n",
       "      <td>323,034</td>\n",
       "      <td>12/2/2009 12:51</td>\n",
       "      <td>Phone or Email</td>\n",
       "      <td>Streets/Sidewalks - Curb &amp; Gutter Repair</td>\n",
       "      <td>STREETSW</td>\n",
       "      <td>37.80638039</td>\n",
       "      <td>-122.2072523</td>\n",
       "      <td>UNFUNDED</td>\n",
       "      <td></td>\n",
       "      <td>CCD4</td>\n",
       "      <td>4100 LINCOLN AVE</td>\n",
       "      <td>Oakland</td>\n",
       "      <td>CA</td>\n",
       "      <td>40000</td>\n",
       "    </tr>\n",
       "    <tr>\n",
       "      <th>3</th>\n",
       "      <td>323,003</td>\n",
       "      <td>12/2/2009 10:23</td>\n",
       "      <td>Phone or Email</td>\n",
       "      <td>Streets - Street Deterioration</td>\n",
       "      <td>STREETSW</td>\n",
       "      <td>37.83726266</td>\n",
       "      <td>-122.2257336</td>\n",
       "      <td>CLOSED</td>\n",
       "      <td></td>\n",
       "      <td>CCD1</td>\n",
       "      <td>HARBORD DR &amp; FLORENCE AV</td>\n",
       "      <td>Oakland</td>\n",
       "      <td>CA</td>\n",
       "      <td>40000</td>\n",
       "    </tr>\n",
       "    <tr>\n",
       "      <th>4</th>\n",
       "      <td>321,683</td>\n",
       "      <td>11/13/2009 12:58</td>\n",
       "      <td>Phone or Email</td>\n",
       "      <td>Streets - Street Deterioration</td>\n",
       "      <td>STREETSW</td>\n",
       "      <td>37.81606615</td>\n",
       "      <td>-122.26249</td>\n",
       "      <td>UNFUNDED</td>\n",
       "      <td></td>\n",
       "      <td>CCD3</td>\n",
       "      <td>275 28TH ST</td>\n",
       "      <td>Oakland</td>\n",
       "      <td>CA</td>\n",
       "      <td>40000</td>\n",
       "    </tr>\n",
       "    <tr>\n",
       "      <th>...</th>\n",
       "      <td>...</td>\n",
       "      <td>...</td>\n",
       "      <td>...</td>\n",
       "      <td>...</td>\n",
       "      <td>...</td>\n",
       "      <td>...</td>\n",
       "      <td>...</td>\n",
       "      <td>...</td>\n",
       "      <td>...</td>\n",
       "      <td>...</td>\n",
       "      <td>...</td>\n",
       "      <td>...</td>\n",
       "      <td>...</td>\n",
       "      <td>...</td>\n",
       "    </tr>\n",
       "    <tr>\n",
       "      <th>521</th>\n",
       "      <td>317,437</td>\n",
       "      <td>10/5/2009 12:11</td>\n",
       "      <td>Phone or Email</td>\n",
       "      <td>Streets - Potholes/Depression</td>\n",
       "      <td>STREETSW</td>\n",
       "      <td>37.81913177</td>\n",
       "      <td>-122.2534458</td>\n",
       "      <td>CLOSED</td>\n",
       "      <td>10/5/2009 14:09</td>\n",
       "      <td>CCD2</td>\n",
       "      <td>OAKLAND AV &amp; SANTA CLARA AV</td>\n",
       "      <td>Oakland</td>\n",
       "      <td>CA</td>\n",
       "      <td>0.1</td>\n",
       "    </tr>\n",
       "    <tr>\n",
       "      <th>522</th>\n",
       "      <td>317,054</td>\n",
       "      <td>9/30/2009 13:50</td>\n",
       "      <td>Phone or Email</td>\n",
       "      <td>Streets - Potholes/Depression</td>\n",
       "      <td>STREETSW</td>\n",
       "      <td>37.77946679</td>\n",
       "      <td>-122.205585</td>\n",
       "      <td>CLOSED</td>\n",
       "      <td>9/30/2009 15:09</td>\n",
       "      <td>CCD5</td>\n",
       "      <td>CONGRESS AV &amp; COURTLAND AV</td>\n",
       "      <td>Oakland</td>\n",
       "      <td>CA</td>\n",
       "      <td>0.1</td>\n",
       "    </tr>\n",
       "    <tr>\n",
       "      <th>523</th>\n",
       "      <td>322,684</td>\n",
       "      <td>11/25/2009 11:17</td>\n",
       "      <td>Phone or Email</td>\n",
       "      <td>Streets/Sidewalks - Portable Barriers Maint</td>\n",
       "      <td>STREETSW</td>\n",
       "      <td>37.86406206</td>\n",
       "      <td>-122.2332864</td>\n",
       "      <td>CLOSED</td>\n",
       "      <td>11/25/2009 11:20</td>\n",
       "      <td>CCD1</td>\n",
       "      <td>CLAREMONT AV &amp; RISPIN DR</td>\n",
       "      <td>Oakland</td>\n",
       "      <td>CA</td>\n",
       "      <td>0</td>\n",
       "    </tr>\n",
       "    <tr>\n",
       "      <th>524</th>\n",
       "      <td>317,946</td>\n",
       "      <td>10/8/2009 15:58</td>\n",
       "      <td>Phone or Email</td>\n",
       "      <td>Streets - Potholes/Depression</td>\n",
       "      <td>STREETSW</td>\n",
       "      <td>37.83296523</td>\n",
       "      <td>-122.2648865</td>\n",
       "      <td>CLOSED</td>\n",
       "      <td>10/8/2009 16:00</td>\n",
       "      <td>CCD1</td>\n",
       "      <td>541  45TH STREET</td>\n",
       "      <td>Oakland</td>\n",
       "      <td>CA</td>\n",
       "      <td>0</td>\n",
       "    </tr>\n",
       "    <tr>\n",
       "      <th>525</th>\n",
       "      <td>323,244</td>\n",
       "      <td>12/6/2009 16:28</td>\n",
       "      <td>Phone or Email</td>\n",
       "      <td>Streets - Potholes/Depression</td>\n",
       "      <td>STREETSW</td>\n",
       "      <td>37.84602323</td>\n",
       "      <td>-122.2548987</td>\n",
       "      <td>CLOSED</td>\n",
       "      <td>12/6/2009 16:30</td>\n",
       "      <td>CCD1</td>\n",
       "      <td>5800 CLAREMONT AVE</td>\n",
       "      <td>Oakland</td>\n",
       "      <td>CA</td>\n",
       "      <td>0</td>\n",
       "    </tr>\n",
       "  </tbody>\n",
       "</table>\n",
       "<p>526 rows × 14 columns</p>\n",
       "</div>"
      ],
      "text/plain": [
       "    REQUESTID      DATETIMEINIT          SOURCE  \\\n",
       "0     323,439   12/8/2009 11:05  Phone or Email   \n",
       "1     323,234   12/4/2009 16:20  Phone or Email   \n",
       "2     323,034   12/2/2009 12:51  Phone or Email   \n",
       "3     323,003   12/2/2009 10:23  Phone or Email   \n",
       "4     321,683  11/13/2009 12:58  Phone or Email   \n",
       "..        ...               ...             ...   \n",
       "521   317,437   10/5/2009 12:11  Phone or Email   \n",
       "522   317,054   9/30/2009 13:50  Phone or Email   \n",
       "523   322,684  11/25/2009 11:17  Phone or Email   \n",
       "524   317,946   10/8/2009 15:58  Phone or Email   \n",
       "525   323,244   12/6/2009 16:28  Phone or Email   \n",
       "\n",
       "                                     DESCRIPTION REQCATEGORY          LAT  \\\n",
       "0                 Streets - Street Deterioration    STREETSW  37.78827342   \n",
       "1                  Streets - Potholes/Depression    STREETSW  37.82778391   \n",
       "2       Streets/Sidewalks - Curb & Gutter Repair    STREETSW  37.80638039   \n",
       "3                 Streets - Street Deterioration    STREETSW  37.83726266   \n",
       "4                 Streets - Street Deterioration    STREETSW  37.81606615   \n",
       "..                                           ...         ...          ...   \n",
       "521                Streets - Potholes/Depression    STREETSW  37.81913177   \n",
       "522                Streets - Potholes/Depression    STREETSW  37.77946679   \n",
       "523  Streets/Sidewalks - Portable Barriers Maint    STREETSW  37.86406206   \n",
       "524                Streets - Potholes/Depression    STREETSW  37.83296523   \n",
       "525                Streets - Potholes/Depression    STREETSW  37.84602323   \n",
       "\n",
       "             LONG    STATUS    DATETIMECLOSED COUNCILDISTRICT  \\\n",
       "0    -122.1901048  UNFUNDED                              CCD4   \n",
       "1    -122.1948242    CANCEL                              CCD4   \n",
       "2    -122.2072523  UNFUNDED                              CCD4   \n",
       "3    -122.2257336    CLOSED                              CCD1   \n",
       "4      -122.26249  UNFUNDED                              CCD3   \n",
       "..            ...       ...               ...             ...   \n",
       "521  -122.2534458    CLOSED   10/5/2009 14:09            CCD2   \n",
       "522   -122.205585    CLOSED   9/30/2009 15:09            CCD5   \n",
       "523  -122.2332864    CLOSED  11/25/2009 11:20            CCD1   \n",
       "524  -122.2648865    CLOSED   10/8/2009 16:00            CCD1   \n",
       "525  -122.2548987    CLOSED   12/6/2009 16:30            CCD1   \n",
       "\n",
       "                     PROBADDRESS     City State TIMETOCLOSE  \n",
       "0                 4448 PAMPAS AV  Oakland    CA       40000  \n",
       "1                     8 RYDAL CT  Oakland    CA       40000  \n",
       "2               4100 LINCOLN AVE  Oakland    CA       40000  \n",
       "3       HARBORD DR & FLORENCE AV  Oakland    CA       40000  \n",
       "4                    275 28TH ST  Oakland    CA       40000  \n",
       "..                           ...      ...   ...         ...  \n",
       "521  OAKLAND AV & SANTA CLARA AV  Oakland    CA         0.1  \n",
       "522   CONGRESS AV & COURTLAND AV  Oakland    CA         0.1  \n",
       "523     CLAREMONT AV & RISPIN DR  Oakland    CA           0  \n",
       "524             541  45TH STREET  Oakland    CA           0  \n",
       "525           5800 CLAREMONT AVE  Oakland    CA           0  \n",
       "\n",
       "[526 rows x 14 columns]"
      ]
     },
     "execution_count": 46,
     "metadata": {},
     "output_type": "execute_result"
    }
   ],
   "source": [
    "oakland_09[['REQUESTID',\n",
    " 'DATETIMEINIT',\n",
    " 'SOURCE',\n",
    " 'DESCRIPTION',\n",
    " 'REQCATEGORY',\n",
    " 'LAT',\n",
    " 'LONG',\n",
    " 'STATUS',\n",
    " 'DATETIMECLOSED',\n",
    " 'COUNCILDISTRICT',\n",
    " 'PROBADDRESS',\n",
    " 'City',\n",
    " 'State',\n",
    " 'TIMETOCLOSE',]]"
   ]
  },
  {
   "cell_type": "code",
   "execution_count": 47,
   "id": "f23568dc-484e-4f4b-9d29-2190d1e61cfe",
   "metadata": {},
   "outputs": [],
   "source": [
    "oakland_09 = oakland_09[['REQUESTID',\n",
    " 'DATETIMEINIT',\n",
    " 'SOURCE',\n",
    " 'DESCRIPTION',\n",
    " 'REQCATEGORY',\n",
    " 'LAT',\n",
    " 'LONG',\n",
    " 'STATUS',\n",
    " 'DATETIMECLOSED',\n",
    " 'COUNCILDISTRICT',\n",
    " 'PROBADDRESS',\n",
    " 'City',\n",
    " 'State',\n",
    " 'TIMETOCLOSE',]]"
   ]
  },
  {
   "cell_type": "code",
   "execution_count": 48,
   "id": "055250f6-6d2f-4bab-ad5e-c0fee5a28ab2",
   "metadata": {},
   "outputs": [
    {
     "data": {
      "text/html": [
       "<div>\n",
       "<style scoped>\n",
       "    .dataframe tbody tr th:only-of-type {\n",
       "        vertical-align: middle;\n",
       "    }\n",
       "\n",
       "    .dataframe tbody tr th {\n",
       "        vertical-align: top;\n",
       "    }\n",
       "\n",
       "    .dataframe thead th {\n",
       "        text-align: right;\n",
       "    }\n",
       "</style>\n",
       "<table border=\"1\" class=\"dataframe\">\n",
       "  <thead>\n",
       "    <tr style=\"text-align: right;\">\n",
       "      <th></th>\n",
       "      <th>REQUESTID</th>\n",
       "      <th>DATETIMEINIT</th>\n",
       "      <th>SOURCE</th>\n",
       "      <th>DESCRIPTION</th>\n",
       "      <th>REQCATEGORY</th>\n",
       "      <th>LAT</th>\n",
       "      <th>LONG</th>\n",
       "      <th>STATUS</th>\n",
       "      <th>DATETIMECLOSED</th>\n",
       "      <th>COUNCILDISTRICT</th>\n",
       "      <th>PROBADDRESS</th>\n",
       "      <th>City</th>\n",
       "      <th>State</th>\n",
       "      <th>TIMETOCLOSE</th>\n",
       "    </tr>\n",
       "  </thead>\n",
       "  <tbody>\n",
       "    <tr>\n",
       "      <th>138</th>\n",
       "      <td>321,504</td>\n",
       "      <td>11/12/2009 11:09</td>\n",
       "      <td>Phone or Email</td>\n",
       "      <td>Streets - Potholes/Depression</td>\n",
       "      <td>STREETSW</td>\n",
       "      <td>37.83513085</td>\n",
       "      <td>-122.2261308</td>\n",
       "      <td>CLOSED</td>\n",
       "      <td>5/12/2010 12:08</td>\n",
       "      <td>CCD1</td>\n",
       "      <td>CLAREWOOD DR &amp; HARBORD DR</td>\n",
       "      <td>Oakland</td>\n",
       "      <td>CA</td>\n",
       "      <td>181</td>\n",
       "    </tr>\n",
       "  </tbody>\n",
       "</table>\n",
       "</div>"
      ],
      "text/plain": [
       "    REQUESTID      DATETIMEINIT          SOURCE  \\\n",
       "138   321,504  11/12/2009 11:09  Phone or Email   \n",
       "\n",
       "                       DESCRIPTION REQCATEGORY          LAT          LONG  \\\n",
       "138  Streets - Potholes/Depression    STREETSW  37.83513085  -122.2261308   \n",
       "\n",
       "     STATUS   DATETIMECLOSED COUNCILDISTRICT                PROBADDRESS  \\\n",
       "138  CLOSED  5/12/2010 12:08            CCD1  CLAREWOOD DR & HARBORD DR   \n",
       "\n",
       "        City State TIMETOCLOSE  \n",
       "138  Oakland    CA         181  "
      ]
     },
     "execution_count": 48,
     "metadata": {},
     "output_type": "execute_result"
    }
   ],
   "source": [
    "oakland_09.sample()"
   ]
  },
  {
   "cell_type": "code",
   "execution_count": 50,
   "id": "cadb7300-7e7f-44b7-8d8c-2fc90d10f9b1",
   "metadata": {},
   "outputs": [],
   "source": [
    "geometry = [Point(xy) for xy in zip( df[\"LONG\"], df[\"LAT\"])]"
   ]
  },
  {
   "cell_type": "code",
   "execution_count": 54,
   "id": "fe225265-c654-45b3-8eca-83162d27cdb8",
   "metadata": {},
   "outputs": [
    {
     "data": {
      "text/plain": [
       "[<shapely.geometry.point.Point at 0x7fee43cb6550>,\n",
       " <shapely.geometry.point.Point at 0x7fee43cb6d00>,\n",
       " <shapely.geometry.point.Point at 0x7fee43cb6610>]"
      ]
     },
     "execution_count": 54,
     "metadata": {},
     "output_type": "execute_result"
    }
   ],
   "source": [
    "geometry[:3]"
   ]
  },
  {
   "cell_type": "markdown",
   "id": "9c3b18d0-544e-4a17-a2eb-fa3a47edc415",
   "metadata": {},
   "source": [
    "Okay, so I guess I have somehow created geometric points, but I am not sure how to add that into my dataframe. I triedjust adding geometry as a column but got an error saying that 'geometry' doesn't exist, so I think I have to go about it another way."
   ]
  },
  {
   "cell_type": "code",
   "execution_count": null,
   "id": "119b76ef-6ae5-4b45-8681-382b28c6f530",
   "metadata": {},
   "outputs": [],
   "source": []
  }
 ],
 "metadata": {
  "kernelspec": {
   "display_name": "Python 3 (ipykernel)",
   "language": "python",
   "name": "python3"
  },
  "language_info": {
   "codemirror_mode": {
    "name": "ipython",
    "version": 3
   },
   "file_extension": ".py",
   "mimetype": "text/x-python",
   "name": "python",
   "nbconvert_exporter": "python",
   "pygments_lexer": "ipython3",
   "version": "3.9.6"
  }
 },
 "nbformat": 4,
 "nbformat_minor": 5
}
